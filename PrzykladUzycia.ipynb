{
 "cells": [
  {
   "cell_type": "markdown",
   "metadata": {},
   "source": [
    "# Dzień dobry. W tym poradniku postaram zaprezentować działanie biblioteki \"clickbaitdetector\"."
   ]
  },
  {
   "cell_type": "markdown",
   "metadata": {},
   "source": [
    "W pierwszej kolejności powinniśmy zaimportwać potrzebne biblioteki."
   ]
  },
  {
   "cell_type": "code",
   "execution_count": 1,
   "metadata": {
    "collapsed": true
   },
   "outputs": [],
   "source": [
    "import clickbaitdetector.clickbaitdetector as a\n",
    "from lxml import html\n",
    "from math import exp\n",
    "import numpy as np\n",
    "import requests"
   ]
  },
  {
   "cell_type": "markdown",
   "metadata": {},
   "source": [
    "Już tym miejscu możemy przetestować naszą bibliotekę odpalając poniższy program."
   ]
  },
  {
   "cell_type": "code",
   "execution_count": 2,
   "metadata": {},
   "outputs": [
    {
     "data": {
      "text/plain": [
       "0.8323568956170361"
      ]
     },
     "execution_count": 2,
     "metadata": {},
     "output_type": "execute_result"
    }
   ],
   "source": [
    "a.check_clickbait(\"Could subjects soon be history in Finland?\", a.default_coefficients)"
   ]
  },
  {
   "cell_type": "markdown",
   "metadata": {},
   "source": [
    "Funkcja \"check_clickbait()\" przyjmuje 2 argumety tj. \n",
    "1 - string z tytułem w języku angielskim | 2 - współczynniki regresji logistycznej,  \n",
    "zwraca natomiast prawdopodobieństwo na to czy podany tytuł jest tak zwanym \"clickbaitem\".\n",
    "\n",
    "Tutaj przydałoby się wyjaśnienie działania tej biblioteki.\n",
    "Do wyznaczania tych \"procentów\" użyłem mechanizmu Regresji Logistycznej. Na podstawie wcześniej przygotowanych danych treningowych wyznaczyłem przykładowe współczynniki tutaj \"default_coefficients\".\n",
    "\n",
    "Poniżej lista wszystkich funkcji udostępnianych przez bibliotekę:"
   ]
  },
  {
   "cell_type": "markdown",
   "metadata": {},
   "source": [
    "pron_feature(file_name, headline) - wyznacza wartość cechy zaimków odmiennych w podanym tytule (headline : str) \n",
    "                                    wykorzystując zaimki odmienne zawarte w pliku (file_name : str)\n",
    "sym_feature(file_name, headline) - wyznacza wartość cechy symboli w podanym tytule (headline : str) \n",
    "                                   wykorzystując symbole zawarte w pliku (file_name : str)\n",
    "words_feature(file_name, headline) - wyznacza wartość cechy słów kluczowych w podanym tytule (headline : str) \n",
    "                                     wykorzystując słowa zawarte w pliku (file_name : str). \n",
    "                                     W programie jest ona wykorzystywana do wyznaczenia wartości cech:\n",
    "                                     - rzeczowników\n",
    "                                     - czasowników\n",
    "                                     - przymiotników\n",
    "                                     - uczuć\n",
    "                                     - zaimków nieodmiennych\n",
    "                                     \n",
    "headline_to_vector(headline) - przekształca podany tytuł w wektor 7-dmio wymiarowy w wartościami cech\n",
    "                               [uczucia, zaimiki odmienne, symbole, przymiotników, rzeczowniki, czasowniki, zaimki nieodmienne]\n",
    "                               \n",
    "download_BBC_headlines() - pobiera tytuły postów ze strony http://www.bbc.com/\n",
    "\n",
    "download_WSJ_headlines() - pobiera tytuły postów ze strony https://www.wsj.com/europe\n",
    "\n",
    "download_NYT_headlines() - pobiera tytuły postów ze strony https://www.nytimes.com/\n",
    "\n",
    "download_Mediaite_headlines() - pobiera tytuły postów ze strony http://www.mediaite.com/\n",
    "\n",
    "download_headlines(url, xpath) - pobiera zawartość strony (url : str) używając wyrażenia w języku XPath (xpath : str)\n",
    "parse_training_data(file_name) - pobiera zawartość pliku (file_name : str), która powinna być w postaci 'tytuł^wektorCech^wartośćŻądana' i zwraca wektor 8 wymiarowy,gdzie ostatnią wartością jest wartośćŻądana\n",
    "\n",
    "predict(row, coefficients) - funkcja używana w regresji logistycznej \n",
    "\n",
    "coefficients_sgd(train, l_rate, n_epoch)\n",
    "\n",
    "check_clickbait(headline, coefficients)\n",
    "\n",
    "check_clickbait_url(url, xpath, coefficients)\n",
    "\n",
    "check_clickbait_file(file_name, coefficients)"
   ]
  }
 ],
 "metadata": {
  "kernelspec": {
   "display_name": "Python 3",
   "language": "python",
   "name": "python3"
  },
  "language_info": {
   "codemirror_mode": {
    "name": "ipython",
    "version": 3
   },
   "file_extension": ".py",
   "mimetype": "text/x-python",
   "name": "python",
   "nbconvert_exporter": "python",
   "pygments_lexer": "ipython3",
   "version": "3.6.1"
  }
 },
 "nbformat": 4,
 "nbformat_minor": 2
}
